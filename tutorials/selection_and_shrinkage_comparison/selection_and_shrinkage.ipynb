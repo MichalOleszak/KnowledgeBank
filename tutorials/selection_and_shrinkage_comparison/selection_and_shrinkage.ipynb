{
 "cells": [
  {
   "cell_type": "markdown",
   "metadata": {},
   "source": [
    "# Setup & Data Load"
   ]
  },
  {
   "cell_type": "code",
   "execution_count": 1,
   "metadata": {},
   "outputs": [
    {
     "name": "stdout",
     "output_type": "stream",
     "text": [
      "     lcavol   lweight  age      lbph  svi       lcp  gleason  pgg45      lpsa  \\\n",
      "0 -0.579818  2.769459   50 -1.386294    0 -1.386294        6      0 -0.430783   \n",
      "1 -0.994252  3.319626   58 -1.386294    0 -1.386294        6      0 -0.162519   \n",
      "2 -0.510826  2.691243   74 -1.386294    0 -1.386294        7     20 -0.162519   \n",
      "3 -1.203973  3.282789   58 -1.386294    0 -1.386294        6      0 -0.162519   \n",
      "4  0.751416  3.432373   62 -1.386294    0 -1.386294        6      0  0.371564   \n",
      "\n",
      "  train  \n",
      "0     T  \n",
      "1     T  \n",
      "2     T  \n",
      "3     T  \n",
      "4     T  \n"
     ]
    }
   ],
   "source": [
    "# Import necessary modules and set options\n",
    "import pandas as pd\n",
    "import numpy as np\n",
    "from random import shuffle\n",
    "\n",
    "# Load data\n",
    "data = pd.read_csv(\"prostate_data\", sep = \"\\t\")\n",
    "print(data.head())\n",
    "\n",
    "# Train-test split\n",
    "y_train = np.array(data[data.train == \"T\"]['lpsa'])\n",
    "y_test = np.array(data[data.train == \"F\"]['lpsa'])\n",
    "X_train = np.array(data[data.train == \"T\"].drop(['lpsa', 'train'], axis=1))\n",
    "X_test = np.array(data[data.train == \"F\"].drop(['lpsa', 'train'], axis=1))\n",
    "\n",
    "# Set cross-validation indices\n",
    "num_obs_9_folds = np.floor(X_train.shape[0] / 10)\n",
    "num_obs_last_fold = X_train.shape[0] - (10 * num_obs_9_folds)\n",
    "idxs = ([x for x in range(9)] * int(num_obs_9_folds)) + ([9] * int(num_obs_last_fold))\n",
    "shuffle(idxs)"
   ]
  },
  {
   "cell_type": "code",
   "execution_count": 30,
   "metadata": {},
   "outputs": [],
   "source": [
    "# Center data\n",
    "\n",
    "# The features must first be scaled to have mean zero and  variance 96 (=n)\n",
    "#before the analyses in Tables 3.1 and beyond.  That is, if x is the  96 by 8 matrix\n",
    "#of features, we compute xp <- scale(x,TRUE,TRUE)\n",
    "\n",
    "\n",
    "X_train_means = X_train.mean(axis=0)\n",
    "X_train_centered = X_train - X_train_means[None, :]"
   ]
  },
  {
   "cell_type": "code",
   "execution_count": null,
   "metadata": {},
   "outputs": [],
   "source": []
  },
  {
   "cell_type": "markdown",
   "metadata": {},
   "source": [
    "# Linear Regression"
   ]
  },
  {
   "cell_type": "code",
   "execution_count": 14,
   "metadata": {},
   "outputs": [
    {
     "name": "stdout",
     "output_type": "stream",
     "text": [
      "Linear Regression MAE: 0.52\n",
      "Linear Regression MAE SE: 0.21\n"
     ]
    }
   ],
   "source": [
    "# Cross-validate to find MAE standard errors\n",
    "mae_cv = np.array([])\n",
    "for fold in range(9):\n",
    "    \n",
    "    # Split training data into 9 training folds and 1 testing fold\n",
    "    train_indices = [i for i, e in enumerate(idxs) if e != fold]\n",
    "    test_indices = [i for i, e in enumerate(idxs) if e == fold]\n",
    "    current_X_train = X_train[train_indices, :]\n",
    "    current_X_test = X_train[test_indices, :]\n",
    "    current_y_train = y_train[train_indices]\n",
    "    current_y_test = y_train[test_indices]\n",
    "\n",
    "    # Calculate the coefficients based on the training 9 folds\n",
    "    betas = np.matmul(np.linalg.inv(np.matmul(current_X_train.T,  current_X_train)),\n",
    "                      np.matmul(current_X_train.T, current_y_train))\n",
    "    \n",
    "    # Predict test data (holdout fold)\n",
    "    y_pred = np.matmul(current_X_test, betas)\n",
    "    \n",
    "    # Get Mean Absolute Error for the current fold\n",
    "    mae_cv = np.append(mae_cv, np.mean(np.abs(y_pred - current_y_test)))\n",
    "\n",
    "# Predict test data and calculate out-of-sample MAE\n",
    "betas = np.matmul(np.linalg.inv(np.matmul(X_train.T,  X_train)), np.matmul(X_train.T, y_train))\n",
    "y_pred = np.matmul(X_test, betas)\n",
    "mae = np.mean(np.abs(y_pred - y_test))\n",
    "    \n",
    "# Get cross-validation based estimates of MAE standard error\n",
    "# (standarddeviation of the mean cross-validated error)\n",
    "mae_se = np.std(mae_cv)\n",
    "\n",
    "print('Linear Regression MAE: {}'.format(np.round(mae, 2)))\n",
    "print('Linear Regression MAE SE: {}'.format(np.round(mae_se, 2)))"
   ]
  },
  {
   "cell_type": "code",
   "execution_count": null,
   "metadata": {},
   "outputs": [],
   "source": []
  }
 ],
 "metadata": {
  "kernelspec": {
   "display_name": "Python 3",
   "language": "python",
   "name": "python3"
  },
  "language_info": {
   "codemirror_mode": {
    "name": "ipython",
    "version": 3
   },
   "file_extension": ".py",
   "mimetype": "text/x-python",
   "name": "python",
   "nbconvert_exporter": "python",
   "pygments_lexer": "ipython3",
   "version": "3.7.2"
  }
 },
 "nbformat": 4,
 "nbformat_minor": 2
}
